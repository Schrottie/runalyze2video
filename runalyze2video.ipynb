{
 "cells": [
  {
   "cell_type": "code",
   "execution_count": 9,
   "metadata": {},
   "outputs": [
    {
     "name": "stdout",
     "output_type": "stream",
     "text": [
      "Keine Aktivitäten gefunden.\n"
     ]
    }
   ],
   "source": [
    "import requests\n",
    "from bs4 import BeautifulSoup\n",
    "from datetime import datetime, timedelta\n",
    "import matplotlib.pyplot as plt\n",
    "from moviepy.editor import VideoClip, ImageClip, concatenate_videoclips\n",
    "import pandas as pd\n",
    "\n",
    "runnersite = \"https://runalyze.com/athlete/Schrottie\"\n",
    "\n",
    "# Funktion zum Abrufen der Webseite und Extrahieren der relevanten Informationen\n",
    "def extract_activity_data():\n",
    "    response = requests.get(runnersite)\n",
    "    soup = BeautifulSoup(response.text, 'html.parser')\n",
    "    \n",
    "    activities = []\n",
    "    today = datetime.today().strftime('%d.%m')\n",
    "    for row in soup.find_all('tr', class_='r training'):\n",
    "        if 'icons8-Running' in row.find('td').text:\n",
    "            cols = row.find_all('td')\n",
    "            date_cell = cols[1].text.strip()\n",
    "            date = date_cell.split()[0].replace('.', '')\n",
    "            distance = cols[4].text.split()[0].replace(',', '.')\n",
    "            duration = cols[5].text.strip()\n",
    "            pace = cols[6].text.strip()\n",
    "            if date == today:\n",
    "                activities.append({'date': date, 'distance': distance, 'duration': duration, 'pace': pace})\n",
    "    \n",
    "    return activities\n",
    "\n",
    "\n",
    "\n",
    "# Funktion zur Erstellung des Diagramms\n",
    "def create_chart(activities):\n",
    "    plt.figure(figsize=(8, 6))\n",
    "    for activity in activities:\n",
    "        plt.bar(activity['date'], float(activity['distance']), label='Distance: {} km'.format(activity['distance']))\n",
    "    plt.xlabel('Date')\n",
    "    plt.ylabel('Distance (km)')\n",
    "    plt.title('Weekly Running Activities')\n",
    "    plt.legend()\n",
    "    plt.xticks(rotation=45)\n",
    "    plt.tight_layout()\n",
    "    plt.savefig('chart.png')  # Speichern des Diagramms als PNG-Datei\n",
    "    plt.close()\n",
    "\n",
    "# Funktion zur Erstellung des Videos\n",
    "def create_video(activities):\n",
    "    video_clips = []\n",
    "    for activity in activities:\n",
    "        text_clip = ImageClip('chart.png').set_duration(3).resize(height=720)\n",
    "        text_clip = text_clip.set_pos(('center', 'top'))\n",
    "        text_clip = text_clip.set_start(0)\n",
    "        \n",
    "        title_clip = ImageClip('chart.png').set_duration(3).resize(height=720)\n",
    "        title_clip = title_clip.set_pos(('center', 'top'))\n",
    "        title_clip = title_clip.set_start(3)\n",
    "        \n",
    "        video_clip = concatenate_videoclips([text_clip, title_clip])\n",
    "        video_clips.append(video_clip)\n",
    "    \n",
    "    final_clip = concatenate_videoclips(video_clips)\n",
    "    final_clip.write_videofile(\"weekly_activities.mp4\", fps=24, codec='libx264')\n",
    "\n",
    "# Hauptfunktion\n",
    "def main():\n",
    "    activities = extract_activity_data()\n",
    "    if activities:\n",
    "        create_chart(activities)\n",
    "        create_video(activities)\n",
    "        print(\"Video wurde erfolgreich erstellt.\")\n",
    "    else:\n",
    "        print(\"Keine Aktivitäten gefunden.\")\n",
    "\n",
    "if __name__ == \"__main__\":\n",
    "    main()\n"
   ]
  }
 ],
 "metadata": {
  "kernelspec": {
   "display_name": "Python 3",
   "language": "python",
   "name": "python3"
  },
  "language_info": {
   "codemirror_mode": {
    "name": "ipython",
    "version": 3
   },
   "file_extension": ".py",
   "mimetype": "text/x-python",
   "name": "python",
   "nbconvert_exporter": "python",
   "pygments_lexer": "ipython3",
   "version": "3.9.2"
  }
 },
 "nbformat": 4,
 "nbformat_minor": 2
}
