{
 "cells": [
  {
   "cell_type": "code",
   "execution_count": null,
   "metadata": {},
   "outputs": [],
   "source": [
    "import requests\n",
    "from bs4 import BeautifulSoup\n",
    "from datetime import datetime, timedelta\n",
    "import pandas as pd\n",
    "\n",
    "runnersite = \"https://runalyze.com/athlete/Schrottie\""
   ]
  },
  {
   "cell_type": "code",
   "execution_count": null,
   "metadata": {},
   "outputs": [],
   "source": [
    "def extract_activity_data():\n",
    "    response = requests.get(runnersite)\n",
    "    soup = BeautifulSoup(response.text, 'html.parser')\n",
    "    \n",
    "    activities = []\n",
    "    today = datetime.today().strftime('%d.%m.%Y')\n",
    "    \n",
    "    # Finden aller Zeilen mit Laufaktivitäten\n",
    "    activity_rows = soup.find_all('tr', class_='r')\n",
    "    \n",
    "    data = {\n",
    "        'date': [],\n",
    "        'a_type': [],\n",
    "        'r_type': [],\n",
    "        'distance': [],\n",
    "        'duration': [],\n",
    "        'pace': []\n",
    "    }\n",
    "    \n",
    "    current_date = None\n",
    "    \n",
    "    for row in activity_rows:\n",
    "        cols = row.find_all('td')\n",
    "        \n",
    "        if cols:\n",
    "            date_cell = cols[1].text.strip()\n",
    "            if date_cell == '': # komplett leer bedeutet, dass es nicht die erste Aktivität des Tages ist\n",
    "                offset = 0\n",
    "            else:\n",
    "                offset = 1\n",
    "                new_date = date_cell.split()[0] + '.' + str(datetime.today().year)\n",
    "                # Das Datum noch \"merken\", damit es in Zeilen ohne Datum genutzt weden kann\n",
    "                if new_date and new_date != current_date:\n",
    "                    current_date = new_date\n",
    "                    \n",
    "            if row.find('i', class_='icons8-Running'):\n",
    "                rt_str = cols[3 + offset].text.strip() if len(cols) > 3 + offset else ''\n",
    "                distance_str = cols[4 + offset].text.strip().split()[0].replace(',', '.') if len(cols) > 4 + offset else ''\n",
    "                duration_str = cols[5 + offset].text.strip() if len(cols) > 5 + offset else ''\n",
    "                pace_str = cols[6 + offset].text.strip() if len(cols) > 6 + offset else ''\n",
    "                \n",
    "                # Überprüfen, ob die aktuellen Werte nicht leer sind\n",
    "                if distance_str and duration_str and pace_str:\n",
    "                    activities.append({'date': current_date, 'a_type': 'run', 'r_type': rt_str, 'distance': distance_str, 'duration': duration_str, 'pace': pace_str})\n",
    "                else:\n",
    "                    # Verwenden des vorherigen Datums, wenn die aktuellen Werte leer sind\n",
    "                    if data['date']:\n",
    "                        activities.append({'date': data['date'][-1], 'a_type': 'run', 'r_type': rt_str, 'distance': distance_str, 'duration': duration_str, 'pace': pace_str})\n",
    "    \n",
    "    df = pd.DataFrame(activities)\n",
    "    df = df[df['a_type'] == 'run'] # Filtern nach Aktivitätstyp \"run\"\n",
    "    return df\n",
    "\n",
    "df = extract_activity_data()\n",
    "print(df)"
   ]
  }
 ],
 "metadata": {
  "kernelspec": {
   "display_name": "Python 3",
   "language": "python",
   "name": "python3"
  },
  "language_info": {
   "codemirror_mode": {
    "name": "ipython",
    "version": 3
   },
   "file_extension": ".py",
   "mimetype": "text/x-python",
   "name": "python",
   "nbconvert_exporter": "python",
   "pygments_lexer": "ipython3",
   "version": "3.10.11 (tags/v3.10.11:7d4cc5a, Apr  5 2023, 00:38:17) [MSC v.1929 64 bit (AMD64)]"
  },
  "vscode": {
   "interpreter": {
    "hash": "d6e51ffc48c74bc681f1d405acabe6496ba2a44cafe5d9b8a0bf330bfe99020e"
   }
  }
 },
 "nbformat": 4,
 "nbformat_minor": 2
}
