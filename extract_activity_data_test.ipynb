{
 "cells": [
  {
   "cell_type": "code",
   "execution_count": 155,
   "metadata": {},
   "outputs": [],
   "source": [
    "import requests\n",
    "from bs4 import BeautifulSoup\n",
    "from datetime import datetime, timedelta\n",
    "import matplotlib.pyplot as plt\n",
    "from moviepy.editor import VideoClip, ImageClip, concatenate_videoclips\n",
    "import pandas as pd\n",
    "\n",
    "runnersite = \"https://runalyze.com/athlete/Schrottie\""
   ]
  },
  {
   "cell_type": "code",
   "execution_count": 156,
   "metadata": {},
   "outputs": [
    {
     "name": "stdout",
     "output_type": "stream",
     "text": [
      "          date a_type r_type distance  duration     pace\n",
      "0   0103.2024.    run              ER  10,94 km  1:10:15\n",
      "1   0203.2024.    run              ER  10,19 km  1:00:00\n",
      "2   0303.2024.    run              ER  35,68 km  3:31:29\n",
      "3   0503.2024.    run     ER    30.05   2:58:59  5:57/km\n",
      "4   0703.2024.    run     ER    27.34   2:44:34  6:01/km\n",
      "5   0803.2024.    run              ER  10,53 km  1:05:48\n",
      "6   0903.2024.    run              ER  14,09 km  1:30:34\n",
      "7   1003.2024.    run              ER  28,56 km  2:52:17\n",
      "8   1203.2024.    run     ER    30.14   2:53:41  5:46/km\n",
      "9   1403.2024.    run     ER    30.22   2:57:15  5:52/km\n",
      "10  1503.2024.    run              ER  13,21 km  1:24:20\n",
      "11  1603.2024.    run              ER  11,28 km  1:12:24\n",
      "12  1703.2024.    run              ER  42,79 km  4:17:13\n"
     ]
    }
   ],
   "source": [
    "def extract_activity_data():\n",
    "    response = requests.get(runnersite)\n",
    "    soup = BeautifulSoup(response.text, 'html.parser')\n",
    "    \n",
    "    activities = []\n",
    "    today = datetime.today().strftime('%d.%m.%Y')\n",
    "    \n",
    "    # Finden aller Zeilen mit Laufaktivitäten\n",
    "    activity_rows = soup.find_all('tr', class_='r')\n",
    "    \n",
    "    data = {\n",
    "        'date': [],\n",
    "        'a_type': [],\n",
    "        'r_type': [],\n",
    "        'distance': [],\n",
    "        'duration': [],\n",
    "        'pace': []\n",
    "    }\n",
    "    \n",
    "    current_date = None\n",
    "    skipped_datecell = False\n",
    "    \n",
    "    for row in activity_rows:\n",
    "        cols = row.find_all('td')\n",
    "        \n",
    "        if cols:\n",
    "            date_cell = cols[1].text.strip()\n",
    "            if date_cell:\n",
    "                new_date = date_cell.split()[0].replace('.', '') + '.' + str(datetime.today().year) + '.' # Korrektur des Datumsformats\n",
    "                \n",
    "                # Überprüfen, ob das Datum in der aktuellen Zeile nicht leer ist und sich vom vorherigen Datum unterscheidet\n",
    "                if new_date and new_date != current_date:\n",
    "                    current_date = new_date\n",
    "                    skipped_datecell = False\n",
    "                if new_date and new_date == current_date:   \n",
    "                    skipped_datecell = True\n",
    "                    \n",
    "            if row.find('i', class_='icons8-Running'):\n",
    "                if new_date and skipped_datecell:\n",
    "                    # Aktualisieren der Indizes für die Zellen, wenn das Datum aus der Variablen current_date genommen wird\n",
    "                    rt_str = cols[4].text.strip() if len(cols) > 4 else ''\n",
    "                    distance_str = cols[5].text.strip().split()[0].replace(',', '.') if len(cols) > 5 else ''\n",
    "                    duration_str = cols[6].text.strip() if len(cols) > 6 else ''\n",
    "                    pace_str = cols[7].text.strip() if len(cols) > 7 else ''\n",
    "                else:\n",
    "                    rt_str = cols[3].text.strip() if len(cols) > 3 else ''\n",
    "                    distance_str = cols[4].text.strip().split()[0].replace(',', '.') if len(cols) > 4 else ''\n",
    "                    duration_str = cols[5].text.strip() if len(cols) > 5 else ''\n",
    "                    pace_str = cols[6].text.strip() if len(cols) > 6 else ''\n",
    "                \n",
    "                # Überprüfen, ob die aktuellen Werte nicht leer sind\n",
    "                if distance_str and duration_str and pace_str:\n",
    "                    activities.append({'date': current_date, 'a_type': 'run', 'r_type': rt_str, 'distance': distance_str, 'duration': duration_str, 'pace': pace_str})\n",
    "                else:\n",
    "                    # Verwenden des vorherigen Datums, wenn die aktuellen Werte leer sind\n",
    "                    if data['date']:\n",
    "                        activities.append({'date': data['date'][-1], 'a_type': 'run', 'r_type': rt_str, 'distance': distance_str, 'duration': duration_str, 'pace': pace_str})\n",
    "    \n",
    "    df = pd.DataFrame(activities)\n",
    "    df = df[df['a_type'] == 'run'] # Filtern nach Aktivitätstyp \"run\"\n",
    "    return df\n",
    "\n",
    "\n",
    "df = extract_activity_data()\n",
    "print(df)"
   ]
  },
  {
   "cell_type": "code",
   "execution_count": 157,
   "metadata": {},
   "outputs": [
    {
     "name": "stdout",
     "output_type": "stream",
     "text": [
      "Gefundene Aktivitäten:\n",
      "          date a_type r_type distance  duration     pace\n",
      "0   0103.2024.    run              ER  10,94 km  1:10:15\n",
      "1   0203.2024.    run              ER  10,19 km  1:00:00\n",
      "2   0303.2024.    run              ER  35,68 km  3:31:29\n",
      "3   0503.2024.    run     ER    30.05   2:58:59  5:57/km\n",
      "4   0703.2024.    run     ER    27.34   2:44:34  6:01/km\n",
      "5   0803.2024.    run              ER  10,53 km  1:05:48\n",
      "6   0903.2024.    run              ER  14,09 km  1:30:34\n",
      "7   1003.2024.    run              ER  28,56 km  2:52:17\n",
      "8   1203.2024.    run     ER    30.14   2:53:41  5:46/km\n",
      "9   1403.2024.    run     ER    30.22   2:57:15  5:52/km\n",
      "10  1503.2024.    run              ER  13,21 km  1:24:20\n",
      "11  1603.2024.    run              ER  11,28 km  1:12:24\n",
      "12  1703.2024.    run              ER  42,79 km  4:17:13\n"
     ]
    }
   ],
   "source": [
    "def main():\n",
    "    activities = extract_activity_data()\n",
    "    if not activities.empty:\n",
    "        print(\"Gefundene Aktivitäten:\")\n",
    "        print(activities)\n",
    "    else:\n",
    "        print(\"Keine Aktivitäten gefunden.\")\n",
    "\n",
    "if __name__ == \"__main__\":\n",
    "    main()\n"
   ]
  }
 ],
 "metadata": {
  "kernelspec": {
   "display_name": "Python 3",
   "language": "python",
   "name": "python3"
  },
  "language_info": {
   "codemirror_mode": {
    "name": "ipython",
    "version": 3
   },
   "file_extension": ".py",
   "mimetype": "text/x-python",
   "name": "python",
   "nbconvert_exporter": "python",
   "pygments_lexer": "ipython3",
   "version": "3.9.2"
  }
 },
 "nbformat": 4,
 "nbformat_minor": 2
}
