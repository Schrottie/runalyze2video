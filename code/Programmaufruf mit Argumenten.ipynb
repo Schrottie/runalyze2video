{
 "cells": [
  {
   "cell_type": "code",
   "execution_count": null,
   "metadata": {},
   "outputs": [],
   "source": [
    "# Hauptfunktion\n",
    "def main(run_mode, sportid, background_sound, start_date_string, end_date_string, max_download_frequency):\n",
    "    age_in_hours = get_last_fetch()\n",
    "    if age_in_hours is not None and age_in_hours > max_download_frequency:\n",
    "        session = login_with_username_password()\n",
    "        if session:\n",
    "            # Alle Aktivitäten im CSV-Format abrufen\n",
    "            fetch_activity_data_csv(session)\n",
    "            # Alle neuen Aktivitäten in die Datenbank schreiben\n",
    "            import_csv_to_sqlite()\n",
    "    else:\n",
    "        print(f\"Die letzte Abfrage war vor weniger als {max_download_frequency} Stunden oder konnte nicht ermittelt werden.\")\n",
    "\n",
    "    # Dataframe vorbereiten\n",
    "    activities = query_data_from_db()\n",
    "    # Introbild vorbereiten/erzeugen\n",
    "    create_intro_image()\n",
    "    # Diagramm zeichnen\n",
    "    create_chart(activities)\n",
    "    # Video erzeugen\n",
    "    create_video(activities)\n",
    "    if use_sound:\n",
    "        video_with_sound = combine_video_and_audio(final_video_clip, background_sound, sound_fading)\n",
    "        shutil.move(video_with_sound, final_video_clip) # Erst erzeugen, dann überschreiben, sonst kommt es zu unerwünschtem Standbild\n",
    "    # Aufräumen\n",
    "    clean_up_tmp()\n",
    "    os.system('cls' if os.name == 'nt' else 'clear')\n",
    "    \n",
    "if __name__ == \"__main__\":\n",
    "    # Argumentparser initialisieren\n",
    "    parser = argparse.ArgumentParser(description='RUNALYZE2VIDEO')\n",
    "    # Argumente einsammeln\n",
    "    parser.add_argument('--run_mode', help='1 letzte Kalenderwoche, 2 letzter Kalendermonat, 3 Benutzerdefinierter Bereich, Start und Ende erforderlich! (Standard: 1)')\n",
    "    parser.add_argument('--sportid', help='800522 = Laufen / 800524 = Radfahren / 800528 = Wandern (Standard: 800522)')\n",
    "    parser.add_argument('--background_sound', help='Hintergrundmusik für das Video (Standard: stuff/fleawaltz_fast.mp3)')\n",
    "    parser.add_argument('--start_date_string', help='Startdatum im Format JJJJ-MM-TT (Standard: 2024-01-01)')\n",
    "    parser.add_argument('--end_date_string', help='Enddatum im Format JJJJ-MM-TT (Standard: 2024-01-10)')\n",
    "    parser.add_argument('--max_download_frequency', help='Maximale Downloadfrequenz vom Runalyze JSON-Endpunkt in Stunden (Standard: 23)')\n",
    "\n",
    "    args = parser.parse_args()\n",
    "    # Ist alles vorhanden? Wenn nicht, werden Standardwerte genommen.\n",
    "    if args.run_mode == None:\n",
    "        run_mode = 1\n",
    "    if args.start_date_string == None:\n",
    "        start_date_string = '2024-01-01'\n",
    "    if args.end_date_string == None:\n",
    "        end_date_string = '2024-01-10'\n",
    "    if args.sportid == None:\n",
    "        sportid = 800522\n",
    "    if args.background_sound == None:\n",
    "        background_sound = 'stuff/fleawaltz_fast.mp3'\n",
    "    if args.max_download_frequency == None:\n",
    "        max_download_frequency = 23\n",
    "\n",
    "    # Hauptprogramm mit den übergebenen Arugumenten aufrufen\n",
    "    main(args.run_mode, args.sportid, args.background_sound, args.start_date_string, args.end_date_string, args.max_download_frequency)"
   ]
  }
 ],
 "metadata": {
  "kernelspec": {
   "display_name": "Python 3",
   "language": "python",
   "name": "python3"
  },
  "language_info": {
   "name": "python",
   "version": "3.10.11 (tags/v3.10.11:7d4cc5a, Apr  5 2023, 00:38:17) [MSC v.1929 64 bit (AMD64)]"
  },
  "orig_nbformat": 4,
  "vscode": {
   "interpreter": {
    "hash": "d6e51ffc48c74bc681f1d405acabe6496ba2a44cafe5d9b8a0bf330bfe99020e"
   }
  }
 },
 "nbformat": 4,
 "nbformat_minor": 2
}
